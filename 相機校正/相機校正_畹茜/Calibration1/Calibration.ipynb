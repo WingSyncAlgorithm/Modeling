{
 "cells": [
  {
   "cell_type": "code",
   "execution_count": 4,
   "id": "54eb3c8a",
   "metadata": {},
   "outputs": [],
   "source": [
    "import numpy as np\n",
    "import cv2 as cv\n",
    "import glob\n",
    "\n",
    "checkboard = (12, 8)\n",
    "# termination criteria\n",
    "criteria = (cv.TERM_CRITERIA_EPS + cv.TERM_CRITERIA_MAX_ITER, 30, 0.001)\n",
    "\n",
    "# prepare object points, like (0,0,0), (1,0,0), (2,0,0) ....,(6,5,0)\n",
    "objp = np.zeros((checkboard[0]*checkboard[1],3), np.float32)\n",
    "objp[:,:2] = np.mgrid[0:checkboard[0],0:checkboard[1]].T.reshape(-1,2)\n",
    "\n",
    "# Arrays to store object points and image points from all the images.\n",
    "objpoints = [] # 3d point in real world space\n",
    "imgpoints = [] # 2d points in image plane.\n",
    "\n",
    "images = glob.glob('*.jpg')\n",
    "\n",
    "for fname in images:\n",
    "    img = cv.imread(fname)\n",
    "    gray = cv.cvtColor(img, cv.COLOR_BGR2GRAY)\n",
    "\n",
    "    # Find the chess board corners\n",
    "    ret, corners = cv.findChessboardCorners(gray, checkboard, None)\n",
    " \n",
    "    # If found, add object points, image points (after refining them)\n",
    "    if ret == True:\n",
    "        objpoints.append(objp)\n",
    "    \n",
    "        corners2 = cv.cornerSubPix(gray,corners, (11,11), (-1,-1), criteria)\n",
    "        imgpoints.append(corners2)\n",
    "    \n",
    "    # Draw and display the corners\n",
    "    cv.drawChessboardCorners(img, checkboard, corners2, ret)\n",
    "    cv.imshow('img', img)\n",
    "    cv.waitKey(500)\n",
    "    \n",
    "cv.destroyAllWindows()"
   ]
  },
  {
   "cell_type": "code",
   "execution_count": 7,
   "id": "4a336804",
   "metadata": {},
   "outputs": [],
   "source": [
    "ret, mtx, dist, rvecs, tvecs = cv.calibrateCamera(objpoints, imgpoints, gray.shape[::-1], None, None)"
   ]
  },
  {
   "cell_type": "code",
   "execution_count": 9,
   "id": "3b3445e5",
   "metadata": {},
   "outputs": [
    {
     "name": "stdout",
     "output_type": "stream",
     "text": [
      "Camera matrix: \n",
      "[[2.89177797e+03 0.00000000e+00 2.00778164e+03]\n",
      " [0.00000000e+00 3.20722869e+03 2.17642791e+03]\n",
      " [0.00000000e+00 0.00000000e+00 1.00000000e+00]]\n",
      "\n",
      "Distortion coefficient: \n",
      "[[ 0.02397363  0.15402835  0.0113913  -0.00693751 -0.36087047]]\n",
      "\n",
      "Rotation Vectors: \n",
      "(array([[ 0.11578214],\n",
      "       [-0.70944961],\n",
      "       [-0.86183805]]), array([[ 0.40115211],\n",
      "       [-0.54986127],\n",
      "       [-1.2138624 ]]), array([[ 0.22019671],\n",
      "       [-0.33099685],\n",
      "       [-1.31472251]]), array([[-0.58083528],\n",
      "       [-0.10216861],\n",
      "       [-0.26129761]]), array([[-0.59288684],\n",
      "       [-0.24952459],\n",
      "       [-0.44282175]]), array([[-0.50175789],\n",
      "       [-0.13882747],\n",
      "       [-0.6657532 ]]), array([[-0.47936219],\n",
      "       [ 0.13090956],\n",
      "       [ 0.34910175]]), array([[-0.43548016],\n",
      "       [ 0.23363831],\n",
      "       [ 0.63265136]]), array([[-0.61978019],\n",
      "       [-0.18838701],\n",
      "       [-0.28233952]]), array([[-0.57444914],\n",
      "       [-0.24427189],\n",
      "       [-0.41957989]]))\n",
      "\n",
      "Translation Vectors: \n",
      "(array([[-5.78630437],\n",
      "       [ 0.30630933],\n",
      "       [15.67057129]]), array([[-6.0968585 ],\n",
      "       [ 1.47474006],\n",
      "       [17.25009652]]), array([[-7.87142629],\n",
      "       [ 2.44187665],\n",
      "       [20.15621396]]), array([[-5.92099517],\n",
      "       [-7.1355609 ],\n",
      "       [17.74715566]]), array([[-5.13723583],\n",
      "       [-6.07044864],\n",
      "       [17.84336062]]), array([[-5.45413175],\n",
      "       [-3.89981438],\n",
      "       [18.24610147]]), array([[-3.96249837],\n",
      "       [-9.68505381],\n",
      "       [21.56037952]]), array([[-2.95487369],\n",
      "       [-9.68429035],\n",
      "       [22.68914313]]), array([[-6.13651928],\n",
      "       [-6.62261205],\n",
      "       [17.34342163]]), array([[-5.05155659],\n",
      "       [-6.13013048],\n",
      "       [17.65727416]]))\n"
     ]
    }
   ],
   "source": [
    "print(\"Camera matrix: \") \n",
    "print(mtx) \n",
    "  \n",
    "print(\"\\nDistortion coefficient: \") \n",
    "print(dist) \n",
    "  \n",
    "print(\"\\nRotation Vectors: \") \n",
    "print(rvecs) \n",
    "  \n",
    "print(\"\\nTranslation Vectors: \") \n",
    "print(tvecs) "
   ]
  },
  {
   "cell_type": "code",
   "execution_count": 18,
   "id": "76bebe29",
   "metadata": {},
   "outputs": [],
   "source": [
    "img = cv.imread('IMG-9953.jpg')\n",
    "h, w = img.shape[:2]\n",
    "newcameramtx, roi = cv.getOptimalNewCameraMatrix(mtx, dist, (w,h), 1, (w,h))"
   ]
  },
  {
   "cell_type": "code",
   "execution_count": 19,
   "id": "7f5a3197",
   "metadata": {},
   "outputs": [
    {
     "data": {
      "text/plain": [
       "True"
      ]
     },
     "execution_count": 19,
     "metadata": {},
     "output_type": "execute_result"
    }
   ],
   "source": [
    "# undistort\n",
    "mapx, mapy = cv.initUndistortRectifyMap(mtx, dist, None, newcameramtx, (w,h), 5)\n",
    "dst = cv.remap(img, mapx, mapy, cv.INTER_LINEAR)\n",
    "# crop the image\n",
    "x, y, w, h = roi\n",
    "dst = dst[y:y+h, x:x+w]\n",
    "cv.imwrite('calibresult.png', dst)"
   ]
  },
  {
   "cell_type": "code",
   "execution_count": null,
   "id": "033a595c",
   "metadata": {},
   "outputs": [],
   "source": []
  }
 ],
 "metadata": {
  "kernelspec": {
   "display_name": "Python 3 (ipykernel)",
   "language": "python",
   "name": "python3"
  },
  "language_info": {
   "codemirror_mode": {
    "name": "ipython",
    "version": 3
   },
   "file_extension": ".py",
   "mimetype": "text/x-python",
   "name": "python",
   "nbconvert_exporter": "python",
   "pygments_lexer": "ipython3",
   "version": "3.11.5"
  }
 },
 "nbformat": 4,
 "nbformat_minor": 5
}
