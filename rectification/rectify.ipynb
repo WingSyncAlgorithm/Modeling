{
 "cells": [
  {
   "cell_type": "code",
   "execution_count": 18,
   "id": "0597e1cb",
   "metadata": {},
   "outputs": [],
   "source": [
    "import cv2\n",
    "import numpy as np\n",
    "\n",
    "\n",
    "def rectify_images(camera_matrix_path, left_image_path, right_image_path):\n",
    "    \"\"\"相片校正\n",
    "    \n",
    "    Args:\n",
    "        camera_matrix_path: 相機參數.txt的路徑\n",
    "        left_image_path: 左圖的路徑\n",
    "        right_image_path: 右圖的路徑\n",
    "    \n",
    "    Returns:\n",
    "        rect_left_image: 校正後的左圖\n",
    "        rect_right_image: 校正後的右圖\n",
    "    \n",
    "    \"\"\"\n",
    "\n",
    "    left_image = cv2.imread(left_image_path)\n",
    "    right_image = cv2.imread(right_image_path)\n",
    "\n",
    "    def read_matrices_from_txt(file_path):\n",
    "        \"\"\"讀取相機參數.txt裡面的矩陣\n",
    "        \n",
    "            Arg:\n",
    "                file_path: txt檔的路徑\n",
    "                \n",
    "            Return:\n",
    "                matrices: 包含了矩陣標題以及矩陣的字典\n",
    "        \"\"\"\n",
    "        matrices = {}\n",
    "        current_matrix_lines = []\n",
    "\n",
    "        with open(file_path, 'r') as file:\n",
    "            for line in file:\n",
    "                line = line.strip()\n",
    "\n",
    "                if not line:\n",
    "                    continue\n",
    "\n",
    "                if line.endswith(':'):\n",
    "                    current_title = line[:-1]  # 把標題後的冒號刪除\n",
    "                    current_matrix_lines = []\n",
    "                elif line.endswith(']'):\n",
    "                    current_matrix_lines.append(line)\n",
    "                    # 提取出數字，並轉換成 float\n",
    "                    row_data = list(\n",
    "                        map(float, ' '.join(current_matrix_lines).strip(\n",
    "                            '[]').split()))\n",
    "                    matrices[current_title] = matrices.get(current_title,\n",
    "                                                           []) + [row_data]\n",
    "                    current_matrix_lines = []\n",
    "                else:\n",
    "                    # 當行結尾不是':'或']'的時候，先把行存起來，等到下一次再合併，解決同一行換行問題\n",
    "                    current_matrix_lines.append(line)\n",
    "\n",
    "        # 把 matrices 中矩陣的型態從 list 轉換成 numpy array\n",
    "        matrices = {key: np.array(value) for key, value in matrices.items()}\n",
    "        return matrices\n",
    "\n",
    "    camera_matrix = read_matrices_from_txt(camera_matrix_path)\n",
    "    camera_matrix_left = camera_matrix.get('Camera matrix left')\n",
    "    distcoeffs_left = camera_matrix.get('distCoeffs left')\n",
    "    camera_matrix_right = camera_matrix.get('Camera matrix right')\n",
    "    distcoeffs_right = camera_matrix.get('distCoeffs right')\n",
    "    r = camera_matrix.get('R')\n",
    "    t = camera_matrix.get('T')\n",
    "\n",
    "    # 計算旋轉矩陣和投影矩陣\n",
    "    (rotation_left, rotation_right, projection_left, projection_right, Q,\n",
    "     validPixROI1,\n",
    "     validPixROI2) = cv2.stereoRectify(camera_matrix_left, distcoeffs_left,\n",
    "                                       camera_matrix_right, distcoeffs_right,\n",
    "                                       left_image.shape[1::-1], r, t)\n",
    "\n",
    "    # 產生左圖映射表(計算無畸變、修正轉換關係)\n",
    "    (map1,\n",
    "     map2) = cv2.initUndistortRectifyMap(camera_matrix_left, distcoeffs_left,\n",
    "                                         rotation_left, projection_left,\n",
    "                                         left_image.shape[1::-1], cv2.CV_32FC1)\n",
    "    # 執行映射(將一張影像中某位置的像素放置到另一個圖片指定位置)\n",
    "    rect_left_image = cv2.remap(left_image, map1, map2, cv2.INTER_CUBIC)\n",
    "\n",
    "    # 產生右圖映射表\n",
    "    (map1,\n",
    "     map2) = cv2.initUndistortRectifyMap(camera_matrix_right, distcoeffs_right,\n",
    "                                         rotation_right, projection_right,\n",
    "                                         left_image.shape[1::-1], cv2.CV_32FC1)\n",
    "    rect_right_image = cv2.remap(right_image, map1, map2, cv2.INTER_CUBIC)\n",
    "\n",
    "    print(left_image.shape[1::-1])\n",
    "\n",
    "    return rect_left_image, rect_right_image"
   ]
  },
  {
   "cell_type": "code",
   "execution_count": 19,
   "id": "7230566c",
   "metadata": {},
   "outputs": [
    {
     "name": "stdout",
     "output_type": "stream",
     "text": [
      "(4032, 3024)\n"
     ]
    },
    {
     "data": {
      "text/plain": [
       "True"
      ]
     },
     "execution_count": 19,
     "metadata": {},
     "output_type": "execute_result"
    }
   ],
   "source": [
    "rect_left_image, rect_right_image = rectify_images('camera_parameters.txt', 'img_left.jpg', 'img_right.jpg')\n",
    "cv2.imwrite('rect_left_image_imt.jpg', rect_left_image)\n",
    "cv2.imwrite('rect_right_image_imt.jpg', rect_right_image)"
   ]
  },
  {
   "cell_type": "code",
   "execution_count": null,
   "id": "37eb6396",
   "metadata": {},
   "outputs": [],
   "source": []
  }
 ],
 "metadata": {
  "kernelspec": {
   "display_name": "Python 3 (ipykernel)",
   "language": "python",
   "name": "python3"
  },
  "language_info": {
   "codemirror_mode": {
    "name": "ipython",
    "version": 3
   },
   "file_extension": ".py",
   "mimetype": "text/x-python",
   "name": "python",
   "nbconvert_exporter": "python",
   "pygments_lexer": "ipython3",
   "version": "3.11.5"
  }
 },
 "nbformat": 4,
 "nbformat_minor": 5
}
